{
 "cells": [
  {
   "cell_type": "code",
   "execution_count": null,
   "metadata": {},
   "outputs": [],
   "source": [
    "import wbdata as wb\n",
    "import pandas as pd"
   ]
  },
  {
   "cell_type": "code",
   "execution_count": null,
   "metadata": {},
   "outputs": [],
   "source": [
    "wb.get_sources()\n",
    "# our focus is 6 and 15"
   ]
  },
  {
   "cell_type": "code",
   "execution_count": 87,
   "metadata": {},
   "outputs": [
    {
     "data": {
      "text/plain": [
       "id              name\n",
       "--------------  ------------------------------------------\n",
       "BN.CAB.XOKA.CD  Current account balance (BoP, current US$)"
      ]
     },
     "execution_count": 87,
     "metadata": {},
     "output_type": "execute_result"
    }
   ],
   "source": [
    "list_indicators = wb.get_indicators(source=6, query=\"balance\")\n",
    "list_indicators"
   ]
  },
  {
   "cell_type": "code",
   "execution_count": 86,
   "metadata": {},
   "outputs": [
    {
     "data": {
      "text/html": [
       "<div>\n",
       "<style scoped>\n",
       "    .dataframe tbody tr th:only-of-type {\n",
       "        vertical-align: middle;\n",
       "    }\n",
       "\n",
       "    .dataframe tbody tr th {\n",
       "        vertical-align: top;\n",
       "    }\n",
       "\n",
       "    .dataframe thead th {\n",
       "        text-align: right;\n",
       "    }\n",
       "</style>\n",
       "<table border=\"1\" class=\"dataframe\">\n",
       "  <thead>\n",
       "    <tr style=\"text-align: right;\">\n",
       "      <th></th>\n",
       "      <th>date</th>\n",
       "      <th>GDP</th>\n",
       "      <th>current_account</th>\n",
       "    </tr>\n",
       "  </thead>\n",
       "  <tbody>\n",
       "    <tr>\n",
       "      <th>count</th>\n",
       "      <td>18634</td>\n",
       "      <td>3.158000e+03</td>\n",
       "      <td>7.339000e+03</td>\n",
       "    </tr>\n",
       "    <tr>\n",
       "      <th>mean</th>\n",
       "      <td>1992-07-30 07:46:45.581195648</td>\n",
       "      <td>3.439756e+06</td>\n",
       "      <td>4.025648e+08</td>\n",
       "    </tr>\n",
       "    <tr>\n",
       "      <th>min</th>\n",
       "      <td>1960-01-01 00:00:00</td>\n",
       "      <td>6.240538e+03</td>\n",
       "      <td>-9.715940e+11</td>\n",
       "    </tr>\n",
       "    <tr>\n",
       "      <th>25%</th>\n",
       "      <td>1977-01-01 00:00:00</td>\n",
       "      <td>6.352602e+04</td>\n",
       "      <td>-1.098123e+09</td>\n",
       "    </tr>\n",
       "    <tr>\n",
       "      <th>50%</th>\n",
       "      <td>1993-01-01 00:00:00</td>\n",
       "      <td>3.423720e+05</td>\n",
       "      <td>-1.573000e+08</td>\n",
       "    </tr>\n",
       "    <tr>\n",
       "      <th>75%</th>\n",
       "      <td>2008-01-01 00:00:00</td>\n",
       "      <td>1.967171e+06</td>\n",
       "      <td>7.520427e+07</td>\n",
       "    </tr>\n",
       "    <tr>\n",
       "      <th>max</th>\n",
       "      <td>2023-01-01 00:00:00</td>\n",
       "      <td>8.480789e+07</td>\n",
       "      <td>4.205685e+11</td>\n",
       "    </tr>\n",
       "    <tr>\n",
       "      <th>std</th>\n",
       "      <td>NaN</td>\n",
       "      <td>9.335683e+06</td>\n",
       "      <td>4.238302e+10</td>\n",
       "    </tr>\n",
       "  </tbody>\n",
       "</table>\n",
       "</div>"
      ],
      "text/plain": [
       "                                date           GDP  current_account\n",
       "count                          18634  3.158000e+03     7.339000e+03\n",
       "mean   1992-07-30 07:46:45.581195648  3.439756e+06     4.025648e+08\n",
       "min              1960-01-01 00:00:00  6.240538e+03    -9.715940e+11\n",
       "25%              1977-01-01 00:00:00  6.352602e+04    -1.098123e+09\n",
       "50%              1993-01-01 00:00:00  3.423720e+05    -1.573000e+08\n",
       "75%              2008-01-01 00:00:00  1.967171e+06     7.520427e+07\n",
       "max              2023-01-01 00:00:00  8.480789e+07     4.205685e+11\n",
       "std                              NaN  9.335683e+06     4.238302e+10"
      ]
     },
     "execution_count": 86,
     "metadata": {},
     "output_type": "execute_result"
    }
   ],
   "source": [
    "#countries = [i['id'] for i in wb.get_countries(incomelevel='HIC')]\n",
    "indicators = {\"NYGDPMKTPSAKD\": \"GDP\", \"BN.CAB.XOKA.CD\": \"current_account\"}\n",
    "df = wb.get_dataframe(indicators, parse_dates=True).reset_index()\n",
    "df.describe()"
   ]
  },
  {
   "cell_type": "code",
   "execution_count": 88,
   "metadata": {},
   "outputs": [
    {
     "data": {
      "text/html": [
       "<div>\n",
       "<style scoped>\n",
       "    .dataframe tbody tr th:only-of-type {\n",
       "        vertical-align: middle;\n",
       "    }\n",
       "\n",
       "    .dataframe tbody tr th {\n",
       "        vertical-align: top;\n",
       "    }\n",
       "\n",
       "    .dataframe thead th {\n",
       "        text-align: right;\n",
       "    }\n",
       "</style>\n",
       "<table border=\"1\" class=\"dataframe\">\n",
       "  <thead>\n",
       "    <tr style=\"text-align: right;\">\n",
       "      <th></th>\n",
       "      <th>country</th>\n",
       "      <th>date</th>\n",
       "      <th>GDP</th>\n",
       "      <th>current_account</th>\n",
       "      <th>ratio</th>\n",
       "    </tr>\n",
       "  </thead>\n",
       "  <tbody>\n",
       "    <tr>\n",
       "      <th>10789</th>\n",
       "      <td>Malaysia</td>\n",
       "      <td>2019-01-01</td>\n",
       "      <td>387042.858392</td>\n",
       "      <td>1.279541e+10</td>\n",
       "      <td>33059.423031</td>\n",
       "    </tr>\n",
       "    <tr>\n",
       "      <th>10790</th>\n",
       "      <td>Malaysia</td>\n",
       "      <td>2020-01-01</td>\n",
       "      <td>365922.232733</td>\n",
       "      <td>1.413795e+10</td>\n",
       "      <td>38636.501142</td>\n",
       "    </tr>\n",
       "    <tr>\n",
       "      <th>10791</th>\n",
       "      <td>Malaysia</td>\n",
       "      <td>2021-01-01</td>\n",
       "      <td>377908.454167</td>\n",
       "      <td>1.449342e+10</td>\n",
       "      <td>38351.667742</td>\n",
       "    </tr>\n",
       "    <tr>\n",
       "      <th>10792</th>\n",
       "      <td>Malaysia</td>\n",
       "      <td>2022-01-01</td>\n",
       "      <td>410876.950615</td>\n",
       "      <td>1.227124e+10</td>\n",
       "      <td>29865.981493</td>\n",
       "    </tr>\n",
       "    <tr>\n",
       "      <th>10793</th>\n",
       "      <td>Malaysia</td>\n",
       "      <td>2023-01-01</td>\n",
       "      <td>210525.919332</td>\n",
       "      <td>NaN</td>\n",
       "      <td>NaN</td>\n",
       "    </tr>\n",
       "  </tbody>\n",
       "</table>\n",
       "</div>"
      ],
      "text/plain": [
       "        country       date            GDP  current_account         ratio\n",
       "10789  Malaysia 2019-01-01  387042.858392     1.279541e+10  33059.423031\n",
       "10790  Malaysia 2020-01-01  365922.232733     1.413795e+10  38636.501142\n",
       "10791  Malaysia 2021-01-01  377908.454167     1.449342e+10  38351.667742\n",
       "10792  Malaysia 2022-01-01  410876.950615     1.227124e+10  29865.981493\n",
       "10793  Malaysia 2023-01-01  210525.919332              NaN           NaN"
      ]
     },
     "execution_count": 88,
     "metadata": {},
     "output_type": "execute_result"
    }
   ],
   "source": [
    "df['ratio'] = df['current_account'] / df['GDP']\n",
    "df_malaysia = df[df['country'].str.contains('Malaysia')]\n",
    "\n",
    "df_malaysia.tail()"
   ]
  }
 ],
 "metadata": {
  "kernelspec": {
   "display_name": "Python 3",
   "language": "python",
   "name": "python3"
  },
  "language_info": {
   "codemirror_mode": {
    "name": "ipython",
    "version": 3
   },
   "file_extension": ".py",
   "mimetype": "text/x-python",
   "name": "python",
   "nbconvert_exporter": "python",
   "pygments_lexer": "ipython3",
   "version": "3.11.8"
  }
 },
 "nbformat": 4,
 "nbformat_minor": 2
}
